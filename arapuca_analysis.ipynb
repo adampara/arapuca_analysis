{
 "cells": [
  {
   "cell_type": "markdown",
   "metadata": {},
   "source": [
    "##### import files"
   ]
  },
  {
   "cell_type": "code",
   "execution_count": 1,
   "metadata": {
    "collapsed": false
   },
   "outputs": [
    {
     "data": {
      "application/javascript": [
       "require(['codemirror/mode/clike/clike'], function(Clike) { console.log('ROOTaaS - C++ CodeMirror module loaded'); });"
      ]
     },
     "metadata": {},
     "output_type": "display_data"
    },
    {
     "data": {
      "application/javascript": [
       "IPython.CodeCell.config_defaults.highlight_modes['magic_text/x-c++src'] = {'reg':[/^%%cpp/]};"
      ]
     },
     "metadata": {},
     "output_type": "display_data"
    },
    {
     "name": "stdout",
     "output_type": "stream",
     "text": [
      "Welcome to ROOTaaS 6.06/04\n"
     ]
    }
   ],
   "source": [
    "import matplotlib.pyplot as plt\n",
    "from ROOT import gRandom, TCanvas, TH1F, TFile, TTree,TH2F,gDirectory, TF1,TF2,gStyle, TBrowser, gSystem\n",
    "import ROOT\n",
    "import sys\n",
    "from math import exp\n",
    "from bitstring import BitArray\n",
    "from read_SSP import read_SSP\n",
    "from Browse_ROOT import Browse_ROOT\n",
    "import os\n",
    "from smooth_wave import smooth_wave\n",
    "from baseline_subtract import baseline_subtract\n",
    "import numpy as np\n",
    "import glob\n",
    "from plot_histogram import plot_histogram\n",
    "from int_input import get_int\n",
    "\n",
    "#  %matplotlib inline"
   ]
  },
  {
   "cell_type": "markdown",
   "metadata": {},
   "source": [
    "##### Book histograms"
   ]
  },
  {
   "cell_type": "code",
   "execution_count": 2,
   "metadata": {
    "collapsed": true
   },
   "outputs": [],
   "source": [
    "def Book_Hist(title, lhist):\n",
    "    \"\"\"\n",
    "    Book histograms, append to a list of histograms\n",
    "    \"\"\"\n",
    "\n",
    "    h_ampl = TH1F(title+'_amx_amplitude', 'max amplitude', 50, 0, 0)\n",
    "    lhist.append(h_ampl)\n",
    "    h_ampl_Q = TH2F(title+'_amx_amplitude_Q', 'Charge vs max amplitude',\n",
    "                    100, 0, 100, 100, 0., 100.)\n",
    "    lhist.append(h_ampl_Q)\n",
    "    return h_ampl, h_ampl_Q"
   ]
  },
  {
   "cell_type": "code",
   "execution_count": null,
   "metadata": {
    "collapsed": false
   },
   "outputs": [],
   "source": []
  },
  {
   "cell_type": "code",
   "execution_count": 3,
   "metadata": {
    "collapsed": false
   },
   "outputs": [],
   "source": [
    "def pl_hist(h):\n",
    "    \"\"\"\n",
    "        draw histogram\n",
    "    \"\"\"\n",
    "    try:\n",
    "        c\n",
    "    except NameError:\n",
    "         c = TCanvas(\"cv\", \"cv\", 400, 300)\n",
    "    else:\n",
    "        pass\n",
    "       \n",
    "    h.Draw()\n",
    "    c.Draw()"
   ]
  },
  {
   "cell_type": "markdown",
   "metadata": {},
   "source": [
    "##### list the existing data files"
   ]
  },
  {
   "cell_type": "code",
   "execution_count": 4,
   "metadata": {
    "collapsed": false,
    "scrolled": true
   },
   "outputs": [
    {
     "name": "stdout",
     "output_type": "stream",
     "text": [
      "../data/Jan25_2017_data/data_Vb_21_1_LED_OFF_no_source_Ch0-2017-01-25_16-11-16.dat\n",
      "../data/Jan25_2017_data/data_Vb_21_1_LED_OFF_no_source_Ch1-2017-01-25_16-11-16.dat\n",
      "../data/Jan25_2017_data/data_Vb_21_1_LED_OFF_no_source_Ch2-2017-01-25_16-11-16.dat\n",
      "../data/Jan25_2017_data/data_Vb_21_1_LED_OFF_no_source_Ch5-2017-01-25_16-11-16.dat\n",
      "../data/Jan25_2017_data/data_Vb_21_1_LED_OFF_no_source_Ch6-2017-01-25_16-11-16.dat\n",
      "../data/Jan25_2017_data/data_Vb_21_1_LED_OFF_no_source_Ch7-2017-01-25_16-11-16.dat\n",
      "../data/Jan25_2017_data/data_Vb_21_1_LED_OFF_no_source_Ch8-2017-01-25_16-11-16.dat\n",
      "../data/Jan25_2017_data/data_Vb_21_2_LED_OFF_no_source_Ch0-2017-01-25_16-03-39.dat\n",
      "../data/Jan25_2017_data/data_Vb_21_2_LED_OFF_no_source_Ch1-2017-01-25_16-03-39.dat\n",
      "../data/Jan25_2017_data/data_Vb_21_2_LED_OFF_no_source_Ch2-2017-01-25_16-03-39.dat\n",
      "../data/Jan25_2017_data/data_Vb_21_2_LED_OFF_no_source_Ch5-2017-01-25_16-03-39.dat\n",
      "../data/Jan25_2017_data/data_Vb_21_2_LED_OFF_no_source_Ch6-2017-01-25_16-03-39.dat\n",
      "../data/Jan25_2017_data/data_Vb_21_2_LED_OFF_no_source_Ch7-2017-01-25_16-03-39.dat\n",
      "../data/Jan25_2017_data/data_Vb_21_2_LED_OFF_no_source_Ch8-2017-01-25_16-03-39.dat\n",
      "../data/Jan25_2017_data/data_Vb_21_3_LED_OFF_no_source_f1_Ch0-2017-01-25_15-55-57.dat\n",
      "../data/Jan25_2017_data/data_Vb_21_3_LED_OFF_no_source_f1_Ch1-2017-01-25_15-55-57.dat\n",
      "../data/Jan25_2017_data/data_Vb_21_3_LED_OFF_no_source_f1_Ch2-2017-01-25_15-55-57.dat\n",
      "../data/Jan25_2017_data/data_Vb_21_3_LED_OFF_no_source_f1_Ch5-2017-01-25_15-55-57.dat\n",
      "../data/Jan25_2017_data/data_Vb_21_3_LED_OFF_no_source_f1_Ch6-2017-01-25_15-55-57.dat\n",
      "../data/Jan25_2017_data/data_Vb_21_3_LED_OFF_no_source_f1_Ch7-2017-01-25_15-55-57.dat\n",
      "../data/Jan25_2017_data/data_Vb_21_3_LED_OFF_no_source_f1_Ch8-2017-01-25_15-55-57.dat\n",
      "../data/Jan25_2017_data/data_Vb_21_4_LED_OFF_no_source_Ch0-2017-01-25_16-27-34.dat\n",
      "../data/Jan25_2017_data/data_Vb_21_4_LED_OFF_no_source_Ch1-2017-01-25_16-27-34.dat\n",
      "../data/Jan25_2017_data/data_Vb_21_4_LED_OFF_no_source_Ch2-2017-01-25_16-27-34.dat\n",
      "../data/Jan25_2017_data/data_Vb_21_4_LED_OFF_no_source_Ch5-2017-01-25_16-27-34.dat\n",
      "../data/Jan25_2017_data/data_Vb_21_4_LED_OFF_no_source_Ch6-2017-01-25_16-27-34.dat\n",
      "../data/Jan25_2017_data/data_Vb_21_4_LED_OFF_no_source_Ch7-2017-01-25_16-27-34.dat\n",
      "../data/Jan25_2017_data/data_Vb_21_4_LED_OFF_no_source_Ch8-2017-01-25_16-27-34.dat\n",
      "../data/Jan25_2017_data/data_Vb_21_5_LED_OFF_no_source_Ch0-2017-01-25_16-32-05.dat\n",
      "../data/Jan25_2017_data/data_Vb_21_5_LED_OFF_no_source_Ch1-2017-01-25_16-32-05.dat\n",
      "../data/Jan25_2017_data/data_Vb_21_5_LED_OFF_no_source_Ch2-2017-01-25_16-32-05.dat\n",
      "../data/Jan25_2017_data/data_Vb_21_5_LED_OFF_no_source_Ch5-2017-01-25_16-32-05.dat\n",
      "../data/Jan25_2017_data/data_Vb_21_5_LED_OFF_no_source_Ch6-2017-01-25_16-32-05.dat\n",
      "../data/Jan25_2017_data/data_Vb_21_5_LED_OFF_no_source_Ch7-2017-01-25_16-32-05.dat\n",
      "../data/Jan25_2017_data/data_Vb_21_5_LED_OFF_no_source_Ch8-2017-01-25_16-32-05.dat\n",
      "../data/Jan25_2017_data/data_Vb_21_6_LED_OFF_no_source_Ch0-2017-01-25_16-34-35.dat\n",
      "../data/Jan25_2017_data/data_Vb_21_6_LED_OFF_no_source_Ch1-2017-01-25_16-34-35.dat\n",
      "../data/Jan25_2017_data/data_Vb_21_6_LED_OFF_no_source_Ch2-2017-01-25_16-34-35.dat\n",
      "../data/Jan25_2017_data/data_Vb_21_6_LED_OFF_no_source_Ch5-2017-01-25_16-34-35.dat\n",
      "../data/Jan25_2017_data/data_Vb_21_6_LED_OFF_no_source_Ch6-2017-01-25_16-34-35.dat\n",
      "../data/Jan25_2017_data/data_Vb_21_6_LED_OFF_no_source_Ch7-2017-01-25_16-34-35.dat\n",
      "../data/Jan25_2017_data/data_Vb_21_6_LED_OFF_no_source_Ch8-2017-01-25_16-34-35.dat\n",
      "../data/Jan25_2017_data/data_Vb_21_7_LED_OFF_no_source_Ch0-2017-01-25_16-36-56.dat\n",
      "../data/Jan25_2017_data/data_Vb_21_7_LED_OFF_no_source_Ch1-2017-01-25_16-36-56.dat\n",
      "../data/Jan25_2017_data/data_Vb_21_7_LED_OFF_no_source_Ch2-2017-01-25_16-36-56.dat\n",
      "../data/Jan25_2017_data/data_Vb_21_7_LED_OFF_no_source_Ch5-2017-01-25_16-36-56.dat\n",
      "../data/Jan25_2017_data/data_Vb_21_7_LED_OFF_no_source_Ch6-2017-01-25_16-36-56.dat\n",
      "../data/Jan25_2017_data/data_Vb_21_7_LED_OFF_no_source_Ch7-2017-01-25_16-36-56.dat\n",
      "../data/Jan25_2017_data/data_Vb_21_7_LED_OFF_no_source_Ch8-2017-01-25_16-36-56.dat\n",
      "../data/Jan25_2017_data/G_sipm_arr_Vb_21_3_LED_OFF_no_source_Ch3-2017-01-25_16-46-03.dat\n",
      "../data/Jan25_2017_data/G_sipm_arr_Vb_21_3_LED_OFF_no_source_Ch9-2017-01-25_16-46-03.dat\n",
      "../data/Jan25_2017_data/G_sipm_arr_Vb_21_7_LED_OFF_no_source_Ch3-2017-01-25_16-39-46.dat\n",
      "../data/Jan25_2017_data/G_sipm_arr_Vb_21_7_LED_OFF_no_source_Ch3-2017-01-25_16-40-38.dat\n",
      "../data/Jan25_2017_data/G_sipm_arr_Vb_21_7_LED_OFF_no_source_Ch3-2017-01-25_16-43-39.dat\n",
      "../data/Jan25_2017_data/G_sipm_arr_Vb_21_7_LED_OFF_no_source_Ch9-2017-01-25_16-39-46.dat\n",
      "../data/Jan25_2017_data/G_sipm_arr_Vb_21_7_LED_OFF_no_source_Ch9-2017-01-25_16-41-23.dat\n",
      "../data/Jan25_2017_data/G_sipm_arr_Vb_21_7_LED_OFF_no_source_Ch9-2017-01-25_16-43-39.dat\n",
      "../data/Jan25_2017_data/Tiggered_G_sipm_arr_Vb_21_3_LED_OFF_no_source_Ch0-2017-01-25_16-49-57.dat\n",
      "../data/Jan25_2017_data/Tiggered_G_sipm_arr_Vb_21_3_LED_OFF_no_source_Ch0-2017-01-25_16-50-47.dat\n",
      "../data/Jan25_2017_data/Tiggered_G_sipm_arr_Vb_21_3_LED_OFF_no_source_Ch0-2017-01-25_16-52-06.dat\n",
      "../data/Jan25_2017_data/Tiggered_G_sipm_arr_Vb_21_3_LED_OFF_no_source_Ch1-2017-01-25_16-49-57.dat\n",
      "../data/Jan25_2017_data/Tiggered_G_sipm_arr_Vb_21_3_LED_OFF_no_source_Ch1-2017-01-25_16-50-47.dat\n",
      "../data/Jan25_2017_data/Tiggered_G_sipm_arr_Vb_21_3_LED_OFF_no_source_Ch1-2017-01-25_16-52-06.dat\n",
      "../data/Jan25_2017_data/Tiggered_G_sipm_arr_Vb_21_3_LED_OFF_no_source_Ch2-2017-01-25_16-49-57.dat\n",
      "../data/Jan25_2017_data/Tiggered_G_sipm_arr_Vb_21_3_LED_OFF_no_source_Ch2-2017-01-25_16-50-47.dat\n",
      "../data/Jan25_2017_data/Tiggered_G_sipm_arr_Vb_21_3_LED_OFF_no_source_Ch2-2017-01-25_16-52-06.dat\n",
      "../data/Jan25_2017_data/Tiggered_G_sipm_arr_Vb_21_3_LED_OFF_no_source_Ch3-2017-01-25_16-49-57.dat\n",
      "../data/Jan25_2017_data/Tiggered_G_sipm_arr_Vb_21_3_LED_OFF_no_source_Ch3-2017-01-25_16-50-47.dat\n",
      "../data/Jan25_2017_data/Tiggered_G_sipm_arr_Vb_21_3_LED_OFF_no_source_Ch3-2017-01-25_16-52-06.dat\n",
      "../data/Jan25_2017_data/Tiggered_G_sipm_arr_Vb_21_3_LED_OFF_no_source_Ch5-2017-01-25_16-49-57.dat\n",
      "../data/Jan25_2017_data/Tiggered_G_sipm_arr_Vb_21_3_LED_OFF_no_source_Ch5-2017-01-25_16-50-47.dat\n",
      "../data/Jan25_2017_data/Tiggered_G_sipm_arr_Vb_21_3_LED_OFF_no_source_Ch5-2017-01-25_16-52-06.dat\n",
      "../data/Jan25_2017_data/Tiggered_G_sipm_arr_Vb_21_3_LED_OFF_no_source_Ch6-2017-01-25_16-49-57.dat\n",
      "../data/Jan25_2017_data/Tiggered_G_sipm_arr_Vb_21_3_LED_OFF_no_source_Ch6-2017-01-25_16-50-47.dat\n",
      "../data/Jan25_2017_data/Tiggered_G_sipm_arr_Vb_21_3_LED_OFF_no_source_Ch6-2017-01-25_16-52-06.dat\n",
      "../data/Jan25_2017_data/Tiggered_G_sipm_arr_Vb_21_3_LED_OFF_no_source_Ch7-2017-01-25_16-49-57.dat\n",
      "../data/Jan25_2017_data/Tiggered_G_sipm_arr_Vb_21_3_LED_OFF_no_source_Ch7-2017-01-25_16-50-47.dat\n",
      "../data/Jan25_2017_data/Tiggered_G_sipm_arr_Vb_21_3_LED_OFF_no_source_Ch7-2017-01-25_16-52-06.dat\n",
      "../data/Jan25_2017_data/Tiggered_G_sipm_arr_Vb_21_3_LED_OFF_no_source_Ch8-2017-01-25_16-49-57.dat\n",
      "../data/Jan25_2017_data/Tiggered_G_sipm_arr_Vb_21_3_LED_OFF_no_source_Ch8-2017-01-25_16-50-47.dat\n",
      "../data/Jan25_2017_data/Tiggered_G_sipm_arr_Vb_21_3_LED_OFF_no_source_Ch8-2017-01-25_16-52-06.dat\n",
      "../data/Jan25_2017_data/Tiggered_G_sipm_arr_Vb_21_3_LED_OFF_no_source_Ch9-2017-01-25_16-49-57.dat\n",
      "../data/Jan25_2017_data/Tiggered_G_sipm_arr_Vb_21_3_LED_OFF_no_source_Ch9-2017-01-25_16-50-47.dat\n",
      "../data/Jan25_2017_data/Tiggered_G_sipm_arr_Vb_21_3_LED_OFF_no_source_Ch9-2017-01-25_16-52-06.dat\n"
     ]
    }
   ],
   "source": [
    "filedir = 'data/data_Vb_26_5_Vth_5_380nm_50nW_5_Ch9-2016-12-13_19-49-25/'\n",
    "filenam = 'data_Vb_26_5_Vth_5_380nm_50nW_5_Ch9-2016-12-13_19-49-25.dat'\n",
    "filedir = 'data/noise_Vb_27_5_Vth_10_Ch9-2016-12-16_16-39-37/'\n",
    "filedir = 'data/noise_Vb26_0_Vth_10-2016-12-20_15-44-17/'\n",
    "filedir = '../data/Jan25_2017_data/'\n",
    "fildat = filedir+filenam\n",
    "\n",
    "filelist = glob.glob(filedir+'*.dat')\n",
    "for file in filelist:\n",
    "    print file\n",
    "    \n",
    "  "
   ]
  },
  {
   "cell_type": "markdown",
   "metadata": {},
   "source": [
    "##### select data to analyze\n"
   ]
  },
  {
   "cell_type": "code",
   "execution_count": 5,
   "metadata": {
    "collapsed": false
   },
   "outputs": [
    {
     "name": "stdout",
     "output_type": "stream",
     "text": [
      "['5']\n"
     ]
    }
   ],
   "source": [
    "  \n",
    "#print filelist\n",
    "hist = []\n",
    "voltage = [1, 2, 3, 4, 5, 6, 7]\n",
    "chan = ['0','1', '2', '5', '6', '7', '8']\n",
    "voltage = ['21_7']\n",
    "chan = ['5']\n",
    "print chan"
   ]
  },
  {
   "cell_type": "markdown",
   "metadata": {},
   "source": [
    "##### read requested data files"
   ]
  },
  {
   "cell_type": "code",
   "execution_count": 6,
   "metadata": {
    "collapsed": false
   },
   "outputs": [
    {
     "name": "stdout",
     "output_type": "stream",
     "text": [
      "read file  ['../data/Jan25_2017_data/data_Vb_21_7_LED_OFF_no_source_Ch5-2017-01-25_16-36-56.dat']\n",
      "number of events 162\n"
     ]
    }
   ],
   "source": [
    "events = {}\n",
    "h_ampl = {}\n",
    "h_ampl_Q = {}\n",
    "\n",
    "for ch in chan:\n",
    "\n",
    "    for volt in voltage:\n",
    "        \n",
    "        file = filedir+'data_Vb_'+str(volt)+'*Ch'+ch+'*dat'\n",
    "        title = 'Ch '+ch + ' V bias = '+str(volt)+ 'V'\n",
    "        h_ampl[ch,volt], h_ampl_Q[ch,volt] = Book_Hist(title, hist)\n",
    "        \n",
    "        dfile = glob.glob(file)\n",
    "        if len(dfile) != 1:\n",
    "            print ' non unique data file', file\n",
    "        \n",
    "        print 'read file ', dfile\n",
    "        events[ch,volt] = read_SSP(dfile[0])\n",
    "\n",
    "        nev = len(events[ch,volt])\n",
    "        print 'number of events' ,nev\n",
    "\n"
   ]
  },
  {
   "cell_type": "markdown",
   "metadata": {},
   "source": [
    "##### analyze data\n",
    "\n",
    "use window [0,lped] to determine and subtract the current baseline\n",
    "<nl>\n",
    "<li> aa\n",
    "</nl>"
   ]
  },
  {
   "cell_type": "code",
   "execution_count": null,
   "metadata": {
    "collapsed": false
   },
   "outputs": [
    {
     "name": "stdout",
     "output_type": "stream",
     "text": [
      "10000\n"
     ]
    }
   ],
   "source": [
    "#####  \n",
    "\n",
    "lped = 150                     # window at the beginning to establish baseline\n",
    "av_wave = np.zeros(2000)\n",
    "pl = True\n",
    "winlow = 150                    # window to integrate the signal, lower edge\n",
    "winhigh = 300                   # window to integrate the signal, upper edge\n",
    "\n",
    "iev = 0\n",
    "maxev = 10000                   # maximum number of events to analyze\n",
    "print maxev\n",
    "\n",
    "h_ampl[ch,volt].Reset()\n",
    "h_ampl_Q[ch,volt].Reset()\n",
    "\n",
    "for ev in events[ch,volt]:\n",
    "    iev += 1\n",
    "    if iev > maxev: \n",
    "        continue\n",
    "    (head, wave) = ev\n",
    "    wave3 = baseline_subtract(wave, 0, lped)\n",
    "    nwfm = smooth_wave(wave3, 20)\n",
    "    if pl:\n",
    "        fig = plt.figure()\n",
    "        plt.plot(nwfm)\n",
    "        plt.show()\n",
    "        # ii = get_int('input')\n",
    "    av_wave += nwfm/nev\n",
    "    amp_max = max(nwfm[winlow:winhigh])\n",
    "    charge = sum(nwfm[winlow:winhigh])/(winhigh-winlow)\n",
    "    h_ampl[ch,volt].Fill(amp_max)\n",
    "    h_ampl_Q[ch,volt].Fill(amp_max, charge)\n",
    "print 'done'\n",
    "\n",
    "#Browse_ROOT()\n",
    "\n",
    "pl_hist(h_ampl[ch,volt])\n",
    "pl_hist(h_ampl_Q[ch,volt])\n",
    "\n",
    "#plot_histogram(h_ampl)\n",
    "#plot_histogram(h_ampl_Q)\n",
    "\n",
    "#plt.plot(av_wave)\n",
    "#plt.title(title)\n",
    "#plt.show()\n",
    "#exit()"
   ]
  },
  {
   "cell_type": "code",
   "execution_count": null,
   "metadata": {
    "collapsed": true
   },
   "outputs": [],
   "source": [
    "print h_ampl\n",
    "pl_hist(h_ampl_Q)"
   ]
  },
  {
   "cell_type": "markdown",
   "metadata": {},
   "source": [
    "##### get output of shell command"
   ]
  },
  {
   "cell_type": "code",
   "execution_count": null,
   "metadata": {
    "collapsed": false
   },
   "outputs": [],
   "source": [
    "import commands\n",
    "aa = commands.getstatusoutput(\"ls\")[1].split()\n",
    "print type(aa)\n",
    "print aa\n"
   ]
  },
  {
   "cell_type": "code",
   "execution_count": null,
   "metadata": {
    "collapsed": false
   },
   "outputs": [],
   "source": [
    "ii = get_int('type')\n",
    "print ii"
   ]
  }
 ],
 "metadata": {
  "kernelspec": {
   "display_name": "Python 2",
   "language": "python",
   "name": "python2"
  },
  "language_info": {
   "codemirror_mode": {
    "name": "ipython",
    "version": 2
   },
   "file_extension": ".py",
   "mimetype": "text/x-python",
   "name": "python",
   "nbconvert_exporter": "python",
   "pygments_lexer": "ipython2",
   "version": "2.7.13"
  }
 },
 "nbformat": 4,
 "nbformat_minor": 0
}
