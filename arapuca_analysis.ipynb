{
 "cells": [
  {
   "cell_type": "code",
   "execution_count": 1,
   "metadata": {
    "collapsed": false
   },
   "outputs": [
    {
     "data": {
      "application/javascript": [
       "require(['codemirror/mode/clike/clike'], function(Clike) { console.log('ROOTaaS - C++ CodeMirror module loaded'); });"
      ]
     },
     "metadata": {},
     "output_type": "display_data"
    },
    {
     "data": {
      "application/javascript": [
       "IPython.CodeCell.config_defaults.highlight_modes['magic_text/x-c++src'] = {'reg':[/^%%cpp/]};"
      ]
     },
     "metadata": {},
     "output_type": "display_data"
    },
    {
     "name": "stdout",
     "output_type": "stream",
     "text": [
      "Welcome to ROOTaaS 6.06/04\n",
      "['5']\n"
     ]
    }
   ],
   "source": [
    "import matplotlib.pyplot as plt\n",
    "from ROOT import gRandom, TCanvas, TH1F, TFile, TTree,TH2F,gDirectory, TF1,TF2,gStyle\n",
    "import ROOT\n",
    "import sys\n",
    "from math import exp\n",
    "from bitstring import BitArray\n",
    "from read_SSP import read_SSP\n",
    "from Browse_ROOT import Browse_ROOT\n",
    "\n",
    "import os\n",
    "from smooth_wave import smooth_wave\n",
    "from baseline_subtract import baseline_subtract\n",
    "import numpy as np\n",
    "import glob\n",
    "from plot_histogram import plot_histogram\n",
    "\n",
    "def Book_Hist(title, lhist):\n",
    "    \"\"\"\n",
    "    Book histograms, append to a list of histograms\n",
    "    \"\"\"\n",
    "\n",
    "    h_ampl = TH1F(title+'_amx_amplitude', 'max amplitude', 50, 0, 0)\n",
    "    lhist.append(h_ampl)\n",
    "    h_ampl_Q = TH2F(title+'_amx_amplitude_Q', 'Charge vs max amplitude',\n",
    "                    100, 0, 100, 100, 0., 50.)\n",
    "    lhist.append(h_ampl_Q)\n",
    "    return h_ampl, h_ampl_Q\n",
    "\n",
    "filedir = 'data/data_Vb_26_5_Vth_5_380nm_50nW_5_Ch9-2016-12-13_19-49-25/'\n",
    "filenam = 'data_Vb_26_5_Vth_5_380nm_50nW_5_Ch9-2016-12-13_19-49-25.dat'\n",
    "filedir = 'data/noise_Vb_27_5_Vth_10_Ch9-2016-12-16_16-39-37/'\n",
    "filedir = 'data/noise_Vb26_0_Vth_10-2016-12-20_15-44-17/'\n",
    "filedir = 'data/Jan25_2017_data/'\n",
    "fildat = filedir+filenam\n",
    "\n",
    "filelist = os.listdir(filedir)\n",
    "filelist = glob.glob(filedir+'*.dat')\n",
    "#print filelist\n",
    "hist = []\n",
    "voltage = [1, 2, 3, 4, 5, 6, 7]\n",
    "chan = ['0','1', '2', '5', '6', '7', '8']\n",
    "voltage = [2]\n",
    "chan = ['5']\n",
    "print chan"
   ]
  },
  {
   "cell_type": "code",
   "execution_count": 2,
   "metadata": {
    "collapsed": false
   },
   "outputs": [
    {
     "name": "stdout",
     "output_type": "stream",
     "text": [
      "cell breaker\n"
     ]
    }
   ],
   "source": [
    "print 'cell breaker'"
   ]
  },
  {
   "cell_type": "code",
   "execution_count": 3,
   "metadata": {
    "collapsed": false
   },
   "outputs": [
    {
     "name": "stdout",
     "output_type": "stream",
     "text": [
      "read file  ['data/Jan25_2017_data/data_Vb_21_2_LED_OFF_no_source_Ch5-2017-01-25_16-03-39.dat']\n",
      "number of events 156\n"
     ]
    }
   ],
   "source": [
    "tr = True\n",
    "# while tr:\n",
    "    \n",
    "for ch in chan:\n",
    "\n",
    "    for volt in voltage:\n",
    "        \n",
    "        file = filedir+'data_Vb_21_'+str(volt)+'*Ch'+ch+'*dat'\n",
    "\n",
    "        \n",
    "        dfile = glob.glob(file)\n",
    "        if len(dfile) != 1:\n",
    "            print ' non unique data file', file\n",
    "        \n",
    "        print 'read file ', dfile\n",
    "        events = read_SSP(dfile[0])\n",
    "  \n",
    "\n",
    "  \n",
    "        title = 'Ch '+ch + ' V bias = 21.'+str(volt)+ 'V'\n",
    "        h_ampl, h_ampl_Q = Book_Hist(title, hist)\n",
    "        lped = 150      # window at the beginning to establish baseline\n",
    "        av_wave = np.zeros(2000)\n",
    "        nev = len(events)\n",
    "        print 'number of events' ,nev\n",
    "        winlow = 150\n",
    "        winhigh = 300"
   ]
  },
  {
   "cell_type": "code",
   "execution_count": 4,
   "metadata": {
    "collapsed": false
   },
   "outputs": [
    {
     "name": "stdout",
     "output_type": "stream",
     "text": [
      "5\n",
      "(5, 218, 14704, 200, 27545, 5508, 10, 64592, 64565, 64568, 64569, 28765, 0, 12043927)\n",
      "(5, 217, 14221, 232, 27561, 5508, 10, 65130, 65109, 65099, 65104, 8592, 0, 12976070)\n",
      "(5, 236, 14159, 194, 27544, 5508, 10, 65194, 65163, 65153, 65151, 12143, 0, 12975179)\n",
      "(5, 218, 16487, 189, 27526, 5508, 10, 62712, 62707, 62710, 62722, 13695, 0, 12968687)\n",
      "(5, 216, 14463, 1, 27558, 5508, 11, 64874, 64857, 64856, 64856, 25149, 0, 12965680)\n",
      "done\n"
     ]
    }
   ],
   "source": [
    "iev = 0\n",
    "maxev = 5\n",
    "print maxev\n",
    "for ev in events:\n",
    "    iev += 1\n",
    "    if iev > maxev: \n",
    "        continue\n",
    "    (head, wave) = ev\n",
    "    print head\n",
    "    wave3 = baseline_subtract(wave, 0, lped)\n",
    "    nwfm = smooth_wave(wave3, 20)\n",
    "    plt.plot(nwfm)\n",
    "    plt.show()\n",
    "    av_wave += nwfm/nev\n",
    "    amp_max = max(nwfm[winlow:winhigh])\n",
    "    charge = sum(nwfm[winlow:winhigh])/(winhigh-winlow)\n",
    "    h_ampl.Fill(amp_max)\n",
    "    h_ampl_Q.Fill(amp_max, charge)\n",
    "print 'done'\n",
    "\n",
    "#Browse_ROOT()\n",
    "\n",
    "plot_histogram(h_ampl)\n",
    "plot_histogram(h_ampl_Q)\n",
    "\n",
    "plt.plot(av_wave)\n",
    "plt.title(title)\n",
    "plt.show()\n",
    "#exit()"
   ]
  },
  {
   "cell_type": "code",
   "execution_count": 5,
   "metadata": {
    "collapsed": false
   },
   "outputs": [
    {
     "name": "stdout",
     "output_type": "stream",
     "text": [
      "<ROOT.TH1F object (\"Ch 5 V bias = 21.2V_amx_amplitude\") at 0x7f9266d74f30>\n"
     ]
    }
   ],
   "source": [
    "nev\n",
    "print h_ampl\n",
    "plot_histogram(h_ampl)\n"
   ]
  },
  {
   "cell_type": "code",
   "execution_count": 6,
   "metadata": {
    "collapsed": true
   },
   "outputs": [],
   "source": [
    "plt.plot(av_wave)\n",
    "plt.show()"
   ]
  },
  {
   "cell_type": "code",
   "execution_count": 7,
   "metadata": {
    "collapsed": false
   },
   "outputs": [
    {
     "name": "stdout",
     "output_type": "stream",
     "text": [
      "[ 0.01179487  0.07589744  0.03102564 ..., -0.04589744  0.05025641\n",
      "  0.01179487]\n",
      "156\n"
     ]
    }
   ],
   "source": [
    "print av_wave\n",
    "from ROOT import TBrowser\n",
    "TBrowser()\n",
    "print nev"
   ]
  },
  {
   "cell_type": "code",
   "execution_count": 8,
   "metadata": {
    "collapsed": true
   },
   "outputs": [],
   "source": [
    "c = ROOT.TCanvas(\"myCanvasName\",\"The Canvas Title\",800,600)"
   ]
  },
  {
   "cell_type": "code",
   "execution_count": 9,
   "metadata": {
    "collapsed": false
   },
   "outputs": [
    {
     "data": {
      "image/png": "[encoded data removed]",
      "text/plain": [
       "<IPython.core.display.Image object>"
      ]
     },
     "metadata": {},
     "output_type": "display_data"
    }
   ],
   "source": [
    "h_ampl.Draw()\n",
    "c.Draw()"
   ]
  },
  {
   "cell_type": "code",
   "execution_count": 10,
   "metadata": {
    "collapsed": false
   },
   "outputs": [
    {
     "data": {
      "image/png": "[encoded data removed]",
      "text/plain": [
       "<IPython.core.display.Image object>"
      ]
     },
     "metadata": {},
     "output_type": "display_data"
    }
   ],
   "source": [
    "c.Draw()"
   ]
  }
 ],
 "metadata": {
  "kernelspec": {
   "display_name": "Python 2",
   "language": "python",
   "name": "python2"
  },
  "language_info": {
   "codemirror_mode": {
    "name": "ipython",
    "version": 2
   },
   "file_extension": ".py",
   "mimetype": "text/x-python",
   "name": "python",
   "nbconvert_exporter": "python",
   "pygments_lexer": "ipython2",
   "version": "2.7.13"
  }
 },
 "nbformat": 4,
 "nbformat_minor": 0
}
